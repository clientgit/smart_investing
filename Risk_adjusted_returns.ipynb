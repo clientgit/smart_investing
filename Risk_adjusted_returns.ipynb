{
 "cells": [
  {
   "cell_type": "markdown",
   "id": "2eb99230-2152-400a-944b-16393ddd9fdd",
   "metadata": {},
   "source": [
    "#### _Коэффициент Шарпа_\n",
    "-------------------------------------------------------\n",
    "В основе разумного инвестирования лежит не одна или несколько ценных бумаг, а инвестиционный портфель.\n",
    "Можно создать множество инвестиционных портфелей, и каждый из них будет иметь свои параметры риска (волатильности) и доходности. Для выделения из этого множества наилучшего, их можно сравнить между собою с помощью одного из инструментов оценки портфеля - **коэффициент Шарпа**.  \n",
    "Будущая доходность актива является случайной величиной и равна ее математическому ожиданию **M[X]**, а риск – это дисперсия **D[X]**, т.е. разброс цен на акцию. Чем выше этот разброс - волатильность курса, тем больше риск.Риск (волатильность) принимают равным среднеквадратичному отклонению **(𝜎)** доходностей за тот же интервал.  \n",
    "**Коэффициент Шарпа** позволяет решить задачу сравнения портфелей с разными значениями риска и доходности довольно просто – путем сравнения безрисковым активом. Для этого из будущей доходности рассматриваемого актива вычитается доходность актива безрискового, а результат делится на риск, т.е. дисперсию равную стандартному (среднеквадратичному) отклонению доходностей. Полученный результат показывает величину доходности сверх безрисковой, которая приходится на единицу риска. \n"
   ]
  },
  {
   "cell_type": "code",
   "execution_count": 162,
   "id": "e139516a-47e0-4bc8-84a4-d8ddd042d020",
   "metadata": {},
   "outputs": [],
   "source": [
    "import pandas as pd\n",
    "import numpy as np"
   ]
  },
  {
   "cell_type": "code",
   "execution_count": 163,
   "id": "64fadc51-b008-45fa-a81f-c3af87f886ab",
   "metadata": {},
   "outputs": [],
   "source": [
    "returns_percent = pd.read_csv('data/Portfolios_Formed_on_ME_monthly_EW.csv',\n",
    "                      index_col=0, parse_dates=True, header=0, na_values=-99.99)"
   ]
  },
  {
   "cell_type": "markdown",
   "id": "0b01b9c3-7bb1-440e-9144-29e6231ffb04",
   "metadata": {},
   "source": [
    "+ Набор данных представляет из себя доходность портфелей с 1926 по 2018 год.\n",
    "+ Портфели сгруппированы из общего набора относительно капитализаций (стоимости), \n",
    "    1. Группировка по трем портфелям Lo 30, Med 40, Hi 30\n",
    "    2. Группировка по пяти портфелям Lo 20, Qnt 2, Qnt 3, Qnt 4, Hi 20\n",
    "    3. Группировка по десяти портфелям Lo 10, Dec 2, ..., ..., ..., Hi 10\n"
   ]
  },
  {
   "cell_type": "code",
   "execution_count": 179,
   "id": "a1bff5f9-4d9c-4b2e-9fa2-21d49f07cad9",
   "metadata": {},
   "outputs": [
    {
     "data": {
      "text/html": [
       "<div>\n",
       "<style scoped>\n",
       "    .dataframe tbody tr th:only-of-type {\n",
       "        vertical-align: middle;\n",
       "    }\n",
       "\n",
       "    .dataframe tbody tr th {\n",
       "        vertical-align: top;\n",
       "    }\n",
       "\n",
       "    .dataframe thead th {\n",
       "        text-align: right;\n",
       "    }\n",
       "</style>\n",
       "<table border=\"1\" class=\"dataframe\">\n",
       "  <thead>\n",
       "    <tr style=\"text-align: right;\">\n",
       "      <th></th>\n",
       "      <th>&lt;= 0</th>\n",
       "      <th>Lo 30</th>\n",
       "      <th>Med 40</th>\n",
       "      <th>Hi 30</th>\n",
       "      <th>Lo 20</th>\n",
       "      <th>Qnt 2</th>\n",
       "      <th>Qnt 3</th>\n",
       "      <th>Qnt 4</th>\n",
       "      <th>Hi 20</th>\n",
       "      <th>Lo 10</th>\n",
       "      <th>Dec 2</th>\n",
       "      <th>Dec 3</th>\n",
       "      <th>Dec 4</th>\n",
       "      <th>Dec 5</th>\n",
       "      <th>Dec 6</th>\n",
       "      <th>Dec 7</th>\n",
       "      <th>Dec 8</th>\n",
       "      <th>Dec 9</th>\n",
       "      <th>Hi 10</th>\n",
       "    </tr>\n",
       "  </thead>\n",
       "  <tbody>\n",
       "    <tr>\n",
       "      <th>192607</th>\n",
       "      <td>NaN</td>\n",
       "      <td>-0.43</td>\n",
       "      <td>1.52</td>\n",
       "      <td>2.68</td>\n",
       "      <td>-0.57</td>\n",
       "      <td>0.59</td>\n",
       "      <td>1.60</td>\n",
       "      <td>1.47</td>\n",
       "      <td>3.33</td>\n",
       "      <td>-1.45</td>\n",
       "      <td>0.29</td>\n",
       "      <td>-0.15</td>\n",
       "      <td>1.33</td>\n",
       "      <td>1.24</td>\n",
       "      <td>1.98</td>\n",
       "      <td>1.55</td>\n",
       "      <td>1.38</td>\n",
       "      <td>3.38</td>\n",
       "      <td>3.29</td>\n",
       "    </tr>\n",
       "    <tr>\n",
       "      <th>192608</th>\n",
       "      <td>NaN</td>\n",
       "      <td>3.90</td>\n",
       "      <td>3.04</td>\n",
       "      <td>2.09</td>\n",
       "      <td>3.84</td>\n",
       "      <td>3.59</td>\n",
       "      <td>3.71</td>\n",
       "      <td>1.61</td>\n",
       "      <td>2.33</td>\n",
       "      <td>5.12</td>\n",
       "      <td>2.59</td>\n",
       "      <td>4.03</td>\n",
       "      <td>3.15</td>\n",
       "      <td>2.72</td>\n",
       "      <td>4.72</td>\n",
       "      <td>1.60</td>\n",
       "      <td>1.63</td>\n",
       "      <td>0.98</td>\n",
       "      <td>3.70</td>\n",
       "    </tr>\n",
       "    <tr>\n",
       "      <th>192609</th>\n",
       "      <td>NaN</td>\n",
       "      <td>-1.08</td>\n",
       "      <td>-0.54</td>\n",
       "      <td>0.16</td>\n",
       "      <td>-0.48</td>\n",
       "      <td>-1.40</td>\n",
       "      <td>0.00</td>\n",
       "      <td>-0.50</td>\n",
       "      <td>-0.09</td>\n",
       "      <td>0.93</td>\n",
       "      <td>-1.87</td>\n",
       "      <td>-2.27</td>\n",
       "      <td>-0.53</td>\n",
       "      <td>0.07</td>\n",
       "      <td>-0.07</td>\n",
       "      <td>-1.64</td>\n",
       "      <td>0.64</td>\n",
       "      <td>-0.86</td>\n",
       "      <td>0.67</td>\n",
       "    </tr>\n",
       "    <tr>\n",
       "      <th>192610</th>\n",
       "      <td>NaN</td>\n",
       "      <td>-3.32</td>\n",
       "      <td>-3.52</td>\n",
       "      <td>-3.06</td>\n",
       "      <td>-3.29</td>\n",
       "      <td>-4.10</td>\n",
       "      <td>-2.89</td>\n",
       "      <td>-3.36</td>\n",
       "      <td>-2.95</td>\n",
       "      <td>-4.84</td>\n",
       "      <td>-1.77</td>\n",
       "      <td>-3.36</td>\n",
       "      <td>-4.83</td>\n",
       "      <td>-2.98</td>\n",
       "      <td>-2.80</td>\n",
       "      <td>-3.45</td>\n",
       "      <td>-3.27</td>\n",
       "      <td>-3.47</td>\n",
       "      <td>-2.43</td>\n",
       "    </tr>\n",
       "    <tr>\n",
       "      <th>192611</th>\n",
       "      <td>NaN</td>\n",
       "      <td>-0.46</td>\n",
       "      <td>3.82</td>\n",
       "      <td>3.09</td>\n",
       "      <td>-0.55</td>\n",
       "      <td>2.18</td>\n",
       "      <td>3.41</td>\n",
       "      <td>3.39</td>\n",
       "      <td>3.16</td>\n",
       "      <td>-0.78</td>\n",
       "      <td>-0.32</td>\n",
       "      <td>-0.29</td>\n",
       "      <td>4.65</td>\n",
       "      <td>3.24</td>\n",
       "      <td>3.57</td>\n",
       "      <td>3.82</td>\n",
       "      <td>2.95</td>\n",
       "      <td>3.61</td>\n",
       "      <td>2.70</td>\n",
       "    </tr>\n",
       "    <tr>\n",
       "      <th>...</th>\n",
       "      <td>...</td>\n",
       "      <td>...</td>\n",
       "      <td>...</td>\n",
       "      <td>...</td>\n",
       "      <td>...</td>\n",
       "      <td>...</td>\n",
       "      <td>...</td>\n",
       "      <td>...</td>\n",
       "      <td>...</td>\n",
       "      <td>...</td>\n",
       "      <td>...</td>\n",
       "      <td>...</td>\n",
       "      <td>...</td>\n",
       "      <td>...</td>\n",
       "      <td>...</td>\n",
       "      <td>...</td>\n",
       "      <td>...</td>\n",
       "      <td>...</td>\n",
       "      <td>...</td>\n",
       "    </tr>\n",
       "    <tr>\n",
       "      <th>201808</th>\n",
       "      <td>NaN</td>\n",
       "      <td>3.47</td>\n",
       "      <td>4.04</td>\n",
       "      <td>2.87</td>\n",
       "      <td>3.09</td>\n",
       "      <td>5.05</td>\n",
       "      <td>3.90</td>\n",
       "      <td>3.54</td>\n",
       "      <td>2.49</td>\n",
       "      <td>2.41</td>\n",
       "      <td>5.07</td>\n",
       "      <td>5.30</td>\n",
       "      <td>4.70</td>\n",
       "      <td>3.02</td>\n",
       "      <td>5.01</td>\n",
       "      <td>3.50</td>\n",
       "      <td>3.58</td>\n",
       "      <td>2.65</td>\n",
       "      <td>2.34</td>\n",
       "    </tr>\n",
       "    <tr>\n",
       "      <th>201809</th>\n",
       "      <td>NaN</td>\n",
       "      <td>-2.24</td>\n",
       "      <td>-1.85</td>\n",
       "      <td>0.08</td>\n",
       "      <td>-2.04</td>\n",
       "      <td>-2.38</td>\n",
       "      <td>-2.48</td>\n",
       "      <td>-0.74</td>\n",
       "      <td>0.19</td>\n",
       "      <td>-1.68</td>\n",
       "      <td>-3.08</td>\n",
       "      <td>-3.22</td>\n",
       "      <td>-1.23</td>\n",
       "      <td>-2.65</td>\n",
       "      <td>-2.27</td>\n",
       "      <td>-1.31</td>\n",
       "      <td>-0.12</td>\n",
       "      <td>-0.51</td>\n",
       "      <td>0.87</td>\n",
       "    </tr>\n",
       "    <tr>\n",
       "      <th>201810</th>\n",
       "      <td>NaN</td>\n",
       "      <td>-10.76</td>\n",
       "      <td>-10.88</td>\n",
       "      <td>-7.63</td>\n",
       "      <td>-10.52</td>\n",
       "      <td>-11.74</td>\n",
       "      <td>-10.55</td>\n",
       "      <td>-9.45</td>\n",
       "      <td>-7.41</td>\n",
       "      <td>-10.02</td>\n",
       "      <td>-11.98</td>\n",
       "      <td>-11.89</td>\n",
       "      <td>-11.52</td>\n",
       "      <td>-11.58</td>\n",
       "      <td>-9.23</td>\n",
       "      <td>-10.74</td>\n",
       "      <td>-8.04</td>\n",
       "      <td>-8.28</td>\n",
       "      <td>-6.57</td>\n",
       "    </tr>\n",
       "    <tr>\n",
       "      <th>201811</th>\n",
       "      <td>NaN</td>\n",
       "      <td>-2.08</td>\n",
       "      <td>2.18</td>\n",
       "      <td>2.19</td>\n",
       "      <td>-2.78</td>\n",
       "      <td>1.69</td>\n",
       "      <td>1.46</td>\n",
       "      <td>2.62</td>\n",
       "      <td>2.49</td>\n",
       "      <td>-3.65</td>\n",
       "      <td>-0.23</td>\n",
       "      <td>1.23</td>\n",
       "      <td>2.30</td>\n",
       "      <td>1.74</td>\n",
       "      <td>1.11</td>\n",
       "      <td>3.54</td>\n",
       "      <td>1.63</td>\n",
       "      <td>2.45</td>\n",
       "      <td>2.53</td>\n",
       "    </tr>\n",
       "    <tr>\n",
       "      <th>201812</th>\n",
       "      <td>NaN</td>\n",
       "      <td>-14.28</td>\n",
       "      <td>-12.41</td>\n",
       "      <td>-9.76</td>\n",
       "      <td>-14.77</td>\n",
       "      <td>-12.44</td>\n",
       "      <td>-12.22</td>\n",
       "      <td>-11.34</td>\n",
       "      <td>-9.21</td>\n",
       "      <td>-15.31</td>\n",
       "      <td>-13.19</td>\n",
       "      <td>-11.94</td>\n",
       "      <td>-13.13</td>\n",
       "      <td>-12.73</td>\n",
       "      <td>-11.57</td>\n",
       "      <td>-11.87</td>\n",
       "      <td>-10.75</td>\n",
       "      <td>-9.54</td>\n",
       "      <td>-8.90</td>\n",
       "    </tr>\n",
       "  </tbody>\n",
       "</table>\n",
       "<p>1110 rows × 19 columns</p>\n",
       "</div>"
      ],
      "text/plain": [
       "        <= 0  Lo 30  Med 40  Hi 30  Lo 20  Qnt 2  Qnt 3  Qnt 4  Hi 20  Lo 10  \\\n",
       "192607   NaN  -0.43    1.52   2.68  -0.57   0.59   1.60   1.47   3.33  -1.45   \n",
       "192608   NaN   3.90    3.04   2.09   3.84   3.59   3.71   1.61   2.33   5.12   \n",
       "192609   NaN  -1.08   -0.54   0.16  -0.48  -1.40   0.00  -0.50  -0.09   0.93   \n",
       "192610   NaN  -3.32   -3.52  -3.06  -3.29  -4.10  -2.89  -3.36  -2.95  -4.84   \n",
       "192611   NaN  -0.46    3.82   3.09  -0.55   2.18   3.41   3.39   3.16  -0.78   \n",
       "...      ...    ...     ...    ...    ...    ...    ...    ...    ...    ...   \n",
       "201808   NaN   3.47    4.04   2.87   3.09   5.05   3.90   3.54   2.49   2.41   \n",
       "201809   NaN  -2.24   -1.85   0.08  -2.04  -2.38  -2.48  -0.74   0.19  -1.68   \n",
       "201810   NaN -10.76  -10.88  -7.63 -10.52 -11.74 -10.55  -9.45  -7.41 -10.02   \n",
       "201811   NaN  -2.08    2.18   2.19  -2.78   1.69   1.46   2.62   2.49  -3.65   \n",
       "201812   NaN -14.28  -12.41  -9.76 -14.77 -12.44 -12.22 -11.34  -9.21 -15.31   \n",
       "\n",
       "        Dec 2  Dec 3  Dec 4  Dec 5  Dec 6  Dec 7  Dec 8  Dec 9  Hi 10  \n",
       "192607   0.29  -0.15   1.33   1.24   1.98   1.55   1.38   3.38   3.29  \n",
       "192608   2.59   4.03   3.15   2.72   4.72   1.60   1.63   0.98   3.70  \n",
       "192609  -1.87  -2.27  -0.53   0.07  -0.07  -1.64   0.64  -0.86   0.67  \n",
       "192610  -1.77  -3.36  -4.83  -2.98  -2.80  -3.45  -3.27  -3.47  -2.43  \n",
       "192611  -0.32  -0.29   4.65   3.24   3.57   3.82   2.95   3.61   2.70  \n",
       "...       ...    ...    ...    ...    ...    ...    ...    ...    ...  \n",
       "201808   5.07   5.30   4.70   3.02   5.01   3.50   3.58   2.65   2.34  \n",
       "201809  -3.08  -3.22  -1.23  -2.65  -2.27  -1.31  -0.12  -0.51   0.87  \n",
       "201810 -11.98 -11.89 -11.52 -11.58  -9.23 -10.74  -8.04  -8.28  -6.57  \n",
       "201811  -0.23   1.23   2.30   1.74   1.11   3.54   1.63   2.45   2.53  \n",
       "201812 -13.19 -11.94 -13.13 -12.73 -11.57 -11.87 -10.75  -9.54  -8.90  \n",
       "\n",
       "[1110 rows x 19 columns]"
      ]
     },
     "execution_count": 179,
     "metadata": {},
     "output_type": "execute_result"
    }
   ],
   "source": [
    "returns_percent"
   ]
  },
  {
   "cell_type": "markdown",
   "id": "3df21598-0664-460c-87d0-e9c0c30947c5",
   "metadata": {},
   "source": [
    "+ Буду сравнивать только два портфеля **'Lo 10', 'Hi 10'**"
   ]
  },
  {
   "cell_type": "code",
   "execution_count": 180,
   "id": "52cb626f-0353-4d84-a41e-d917f80e8ef6",
   "metadata": {},
   "outputs": [
    {
     "data": {
      "text/html": [
       "<div>\n",
       "<style scoped>\n",
       "    .dataframe tbody tr th:only-of-type {\n",
       "        vertical-align: middle;\n",
       "    }\n",
       "\n",
       "    .dataframe tbody tr th {\n",
       "        vertical-align: top;\n",
       "    }\n",
       "\n",
       "    .dataframe thead th {\n",
       "        text-align: right;\n",
       "    }\n",
       "</style>\n",
       "<table border=\"1\" class=\"dataframe\">\n",
       "  <thead>\n",
       "    <tr style=\"text-align: right;\">\n",
       "      <th></th>\n",
       "      <th>Lo 10</th>\n",
       "      <th>Hi 10</th>\n",
       "    </tr>\n",
       "  </thead>\n",
       "  <tbody>\n",
       "    <tr>\n",
       "      <th>192607</th>\n",
       "      <td>-0.0145</td>\n",
       "      <td>0.0329</td>\n",
       "    </tr>\n",
       "    <tr>\n",
       "      <th>192608</th>\n",
       "      <td>0.0512</td>\n",
       "      <td>0.0370</td>\n",
       "    </tr>\n",
       "    <tr>\n",
       "      <th>192609</th>\n",
       "      <td>0.0093</td>\n",
       "      <td>0.0067</td>\n",
       "    </tr>\n",
       "  </tbody>\n",
       "</table>\n",
       "</div>"
      ],
      "text/plain": [
       "         Lo 10   Hi 10\n",
       "192607 -0.0145  0.0329\n",
       "192608  0.0512  0.0370\n",
       "192609  0.0093  0.0067"
      ]
     },
     "execution_count": 180,
     "metadata": {},
     "output_type": "execute_result"
    }
   ],
   "source": [
    "returns_fractions = returns_percent[['Lo 10', 'Hi 10']] / 100\n",
    "returns_fractions.head(3)"
   ]
  },
  {
   "cell_type": "code",
   "execution_count": 166,
   "id": "62a224ab-e565-402f-a6c2-2ebdd9a58272",
   "metadata": {},
   "outputs": [
    {
     "data": {
      "text/plain": [
       "<AxesSubplot:>"
      ]
     },
     "execution_count": 166,
     "metadata": {},
     "output_type": "execute_result"
    },
    {
     "data": {
      "image/png": "[encoded data removed]",
      "text/plain": [
       "<Figure size 432x288 with 1 Axes>"
      ]
     },
     "metadata": {
      "needs_background": "light"
     },
     "output_type": "display_data"
    }
   ],
   "source": [
    "# look at the volatility plot\n",
    "returns_fractions.plot.line()"
   ]
  },
  {
   "cell_type": "code",
   "execution_count": 167,
   "id": "b159f72f-8ab9-4148-9465-0796c611d4b1",
   "metadata": {},
   "outputs": [
    {
     "data": {
      "text/plain": [
       "Lo 10    0.106288\n",
       "Hi 10    0.053900\n",
       "dtype: float64"
      ]
     },
     "execution_count": 167,
     "metadata": {},
     "output_type": "execute_result"
    }
   ],
   "source": [
    "# standard deviation (volatility)\n",
    "returns_std = returns_fractions.std()\n",
    "returns_std"
   ]
  },
  {
   "cell_type": "markdown",
   "id": "e9f5f771-4ea4-4653-a5a5-09090f1f34fc",
   "metadata": {},
   "source": [
    "#### Checking  of  calculate  the  standart  deviation :"
   ]
  },
  {
   "cell_type": "markdown",
   "id": "6bc5c906-26d1-4f3c-8319-ae00968a9f1a",
   "metadata": {},
   "source": [
    "$ {\\color{blue}{\\overline{x}}} = \\frac{1}{n} \\sum_{i=1}^{n}(x_i) \\;$\n",
    "$ \\qquad \\qquad \\quad - {M[X]}$      \n",
    "\n",
    "$ {\\color{green}{\\sigma^2}} = \\frac{1}{n - 1} \\sum_{i=1}^{n}(x_i -  {\\color{blue}{\\overline{x}}})^2$\n",
    "$ \\qquad  - {D[X]}$\n",
    "\n",
    "$ \\sigma = \\sqrt { \\color{green}{\\sigma^2} }$\n",
    "$ \\qquad\\qquad\\qquad\\quad  - {std.} $"
   ]
  },
  {
   "cell_type": "code",
   "execution_count": 168,
   "id": "893e9aab-77e4-42af-9ca1-38abe4a56f40",
   "metadata": {},
   "outputs": [
    {
     "data": {
      "text/plain": [
       "Lo 10    0.106288\n",
       "Hi 10    0.053900\n",
       "dtype: float64"
      ]
     },
     "execution_count": 168,
     "metadata": {},
     "output_type": "execute_result"
    }
   ],
   "source": [
    "deviations = returns_fractions - returns_fractions.mean()\n",
    "variance = (deviations**2).sum() / (returns_fractions.shape[0] - 1)\n",
    "volatility = np.sqrt(variance)\n",
    "volatility"
   ]
  },
  {
   "cell_type": "code",
   "execution_count": 169,
   "id": "6b4eee69-b7f5-4abe-971a-531c9886c0d8",
   "metadata": {},
   "outputs": [
    {
     "data": {
      "text/plain": [
       "True"
      ]
     },
     "execution_count": 169,
     "metadata": {},
     "output_type": "execute_result"
    }
   ],
   "source": [
    "returns_std[0].round(6) == volatility[0].round(6) and returns_std[1].round(6) == volatility[1].round(6)"
   ]
  },
  {
   "cell_type": "code",
   "execution_count": 170,
   "id": "bdc58abe-0190-4ffd-b14d-aafc1154cce3",
   "metadata": {},
   "outputs": [
    {
     "data": {
      "text/plain": [
       "Lo 10    0.368193\n",
       "Hi 10    0.186716\n",
       "dtype: float64"
      ]
     },
     "execution_count": 170,
     "metadata": {},
     "output_type": "execute_result"
    }
   ],
   "source": [
    "# annualized volatility\n",
    "annualized_vol = returns_std * np.sqrt(12)\n",
    "annualized_vol"
   ]
  },
  {
   "cell_type": "code",
   "execution_count": 171,
   "id": "3994acff-c0a7-4623-b921-8cbadb366c89",
   "metadata": {},
   "outputs": [
    {
     "data": {
      "text/plain": [
       "Lo 10    1.659582e+06\n",
       "Hi 10    3.674948e+03\n",
       "dtype: float64"
      ]
     },
     "execution_count": 171,
     "metadata": {},
     "output_type": "execute_result"
    }
   ],
   "source": [
    "# total income \n",
    "np.prod(returns + 1) - 1 "
   ]
  },
  {
   "cell_type": "code",
   "execution_count": 172,
   "id": "1d2f5682-e6df-471d-b4e4-bdd53897afec",
   "metadata": {},
   "outputs": [
    {
     "name": "stdout",
     "output_type": "stream",
     "text": [
      "num_months: 1110\n"
     ]
    },
    {
     "data": {
      "text/plain": [
       "Lo 10    0.012986\n",
       "Hi 10    0.007423\n",
       "dtype: float64"
      ]
     },
     "execution_count": 172,
     "metadata": {},
     "output_type": "execute_result"
    }
   ],
   "source": [
    "# monthly income\n",
    "num_months = returns_fractions.shape[0]\n",
    "return_per_month = (returns + 1).prod() ** (1 / num_months) - 1\n",
    "print('num_months: ' + str(num_months))\n",
    "return_per_month"
   ]
  },
  {
   "cell_type": "code",
   "execution_count": 173,
   "id": "effcbf17-2f61-4dd1-a22a-f3123d8634db",
   "metadata": {},
   "outputs": [
    {
     "data": {
      "text/plain": [
       "Lo 10    0.167463\n",
       "Hi 10    0.092810\n",
       "dtype: float64"
      ]
     },
     "execution_count": 173,
     "metadata": {},
     "output_type": "execute_result"
    }
   ],
   "source": [
    "# annual income\n",
    "annualized_return = (return_per_month + 1) ** 12 - 1\n",
    "annualized_return"
   ]
  },
  {
   "cell_type": "code",
   "execution_count": 174,
   "id": "8b1462b5-0b04-4725-b953-71e6ba4e03a9",
   "metadata": {},
   "outputs": [
    {
     "data": {
      "text/plain": [
       "Lo 10    0.454825\n",
       "Hi 10    0.497063\n",
       "dtype: float64"
      ]
     },
     "execution_count": 174,
     "metadata": {},
     "output_type": "execute_result"
    }
   ],
   "source": [
    "# относительная доходность на единицу волатильности (риска)\n",
    "annualized_return / annualized_vol"
   ]
  },
  {
   "cell_type": "code",
   "execution_count": 176,
   "id": "217cb2ca-b1d4-4969-86ee-36a97cd5e2b0",
   "metadata": {},
   "outputs": [],
   "source": [
    "# статическая безрисковая доходность (вообще нужно брать временной ряд безрисковой ставки)\n",
    "riskfree_ratre = 0.03"
   ]
  },
  {
   "cell_type": "code",
   "execution_count": 178,
   "id": "a58dea60-c3ef-4dbd-9fff-948a421c346d",
   "metadata": {},
   "outputs": [
    {
     "data": {
      "text/plain": [
       "Lo 10    0.373346\n",
       "Hi 10    0.336392\n",
       "dtype: float64"
      ]
     },
     "execution_count": 178,
     "metadata": {},
     "output_type": "execute_result"
    }
   ],
   "source": [
    "# Коэффициент Шарпа\n",
    "sharpe_ratio = (annualized_return - riskfree_ratre) / annualized_vol\n",
    "sharpe_ratio"
   ]
  },
  {
   "cell_type": "markdown",
   "id": "3b458893-4e7c-4412-a8ae-06a5a2a36d94",
   "metadata": {},
   "source": [
    "##### Вывод:\n",
    "---------------------------------------\n",
    "Чем выше коэффициент Шарпа, тем больший доход будет получен на единицу риска и тем более выгоден портфель.  \n",
    "У портфеля **Lo 10** - доходность на единицу риска больше."
   ]
  },
  {
   "cell_type": "code",
   "execution_count": null,
   "id": "c01d46d3-4c43-4e45-a6d9-923d999786bb",
   "metadata": {},
   "outputs": [],
   "source": []
  }
 ],
 "metadata": {
  "kernelspec": {
   "display_name": "Python 3 (ipykernel)",
   "language": "python",
   "name": "python3"
  },
  "language_info": {
   "codemirror_mode": {
    "name": "ipython",
    "version": 3
   },
   "file_extension": ".py",
   "mimetype": "text/x-python",
   "name": "python",
   "nbconvert_exporter": "python",
   "pygments_lexer": "ipython3",
   "version": "3.8.8"
  }
 },
 "nbformat": 4,
 "nbformat_minor": 5
}
